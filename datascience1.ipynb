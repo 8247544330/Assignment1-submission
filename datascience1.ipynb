{
  "nbformat": 4,
  "nbformat_minor": 0,
  "metadata": {
    "colab": {
      "name": "demo1.ipynb",
      "provenance": [],
      "collapsed_sections": [],
      "toc_visible": true,
      "authorship_tag": "ABX9TyOQIX3yLzo75qzM4WUqpgFd",
      "include_colab_link": true
    },
    "kernelspec": {
      "name": "python3",
      "display_name": "Python 3"
    }
  },
  "cells": [
    {
      "cell_type": "markdown",
      "metadata": {
        "id": "view-in-github",
        "colab_type": "text"
      },
      "source": [
        "<a href=\"https://colab.research.google.com/github/8247544330/Assignment1-submission/blob/main/datascience1.ipynb\" target=\"_parent\"><img src=\"https://colab.research.google.com/assets/colab-badge.svg\" alt=\"Open In Colab\"/></a>"
      ]
    },
    {
      "cell_type": "code",
      "metadata": {
        "colab": {
          "base_uri": "https://localhost:8080/"
        },
        "id": "h_W1owqnmofo",
        "outputId": "9bb2414e-271c-4670-92d8-ff5d5b369827"
      },
      "source": [
        "print(\"hello world\")"
      ],
      "execution_count": 1,
      "outputs": [
        {
          "output_type": "stream",
          "text": [
            "hello world\n"
          ],
          "name": "stdout"
        }
      ]
    },
    {
      "cell_type": "code",
      "metadata": {
        "id": "5_nMzULAnxPq"
      },
      "source": [
        "import seaborn as sns"
      ],
      "execution_count": 8,
      "outputs": []
    },
    {
      "cell_type": "code",
      "metadata": {
        "colab": {
          "base_uri": "https://localhost:8080/",
          "height": 35
        },
        "id": "MG3eZnhZpU78",
        "outputId": "80f50dc9-8332-4a97-e897-8f96a1917db6"
      },
      "source": [
        "sns.__version__"
      ],
      "execution_count": 9,
      "outputs": [
        {
          "output_type": "execute_result",
          "data": {
            "application/vnd.google.colaboratory.intrinsic+json": {
              "type": "string"
            },
            "text/plain": [
              "'0.11.1'"
            ]
          },
          "metadata": {
            "tags": []
          },
          "execution_count": 9
        }
      ]
    },
    {
      "cell_type": "code",
      "metadata": {
        "id": "QkZ-GPx7peMn"
      },
      "source": [
        "import warnings\r\n",
        "warnings.simplefilter('ignore')"
      ],
      "execution_count": 10,
      "outputs": []
    },
    {
      "cell_type": "code",
      "metadata": {
        "id": "ZiQc29C0po1u"
      },
      "source": [
        "import numpy as np\r\n",
        "import pandas as pd\r\n",
        "import matplotlib.pyplot as plt\r\n"
      ],
      "execution_count": 11,
      "outputs": []
    },
    {
      "cell_type": "code",
      "metadata": {
        "colab": {
          "base_uri": "https://localhost:8080/",
          "height": 35
        },
        "id": "UQVo-Wy5qJOz",
        "outputId": "4e1527c2-8190-4b40-e0e8-5638cd750ad7"
      },
      "source": [
        "pd.__version__"
      ],
      "execution_count": 12,
      "outputs": [
        {
          "output_type": "execute_result",
          "data": {
            "application/vnd.google.colaboratory.intrinsic+json": {
              "type": "string"
            },
            "text/plain": [
              "'1.1.5'"
            ]
          },
          "metadata": {
            "tags": []
          },
          "execution_count": 12
        }
      ]
    },
    {
      "cell_type": "code",
      "metadata": {
        "colab": {
          "base_uri": "https://localhost:8080/"
        },
        "id": "7TKjWqbXmszx",
        "outputId": "78ad2386-d53f-4ea4-ccfd-83c47fe6de7d"
      },
      "source": [
        "k=[\"apple\",\"banana\",\"orange\",\"grapes\"]\r\n",
        "print(k)"
      ],
      "execution_count": 66,
      "outputs": [
        {
          "output_type": "stream",
          "text": [
            "['apple', 'banana', 'orange', 'grapes']\n"
          ],
          "name": "stdout"
        }
      ]
    },
    {
      "cell_type": "code",
      "metadata": {
        "colab": {
          "base_uri": "https://localhost:8080/"
        },
        "id": "yG6haICEq-7Y",
        "outputId": "2ffb93e9-aa36-4b49-cad1-f7396968b532"
      },
      "source": [
        "help(pd)"
      ],
      "execution_count": 67,
      "outputs": [
        {
          "output_type": "stream",
          "text": [
            "Help on package pandas:\n",
            "\n",
            "NAME\n",
            "    pandas\n",
            "\n",
            "DESCRIPTION\n",
            "    pandas - a powerful data analysis and manipulation library for Python\n",
            "    =====================================================================\n",
            "    \n",
            "    **pandas** is a Python package providing fast, flexible, and expressive data\n",
            "    structures designed to make working with \"relational\" or \"labeled\" data both\n",
            "    easy and intuitive. It aims to be the fundamental high-level building block for\n",
            "    doing practical, **real world** data analysis in Python. Additionally, it has\n",
            "    the broader goal of becoming **the most powerful and flexible open source data\n",
            "    analysis / manipulation tool available in any language**. It is already well on\n",
            "    its way toward this goal.\n",
            "    \n",
            "    Main Features\n",
            "    -------------\n",
            "    Here are just a few of the things that pandas does well:\n",
            "    \n",
            "      - Easy handling of missing data in floating point as well as non-floating\n",
            "        point data.\n",
            "      - Size mutability: columns can be inserted and deleted from DataFrame and\n",
            "        higher dimensional objects\n",
            "      - Automatic and explicit data alignment: objects can be explicitly aligned\n",
            "        to a set of labels, or the user can simply ignore the labels and let\n",
            "        `Series`, `DataFrame`, etc. automatically align the data for you in\n",
            "        computations.\n",
            "      - Powerful, flexible group by functionality to perform split-apply-combine\n",
            "        operations on data sets, for both aggregating and transforming data.\n",
            "      - Make it easy to convert ragged, differently-indexed data in other Python\n",
            "        and NumPy data structures into DataFrame objects.\n",
            "      - Intelligent label-based slicing, fancy indexing, and subsetting of large\n",
            "        data sets.\n",
            "      - Intuitive merging and joining data sets.\n",
            "      - Flexible reshaping and pivoting of data sets.\n",
            "      - Hierarchical labeling of axes (possible to have multiple labels per tick).\n",
            "      - Robust IO tools for loading data from flat files (CSV and delimited),\n",
            "        Excel files, databases, and saving/loading data from the ultrafast HDF5\n",
            "        format.\n",
            "      - Time series-specific functionality: date range generation and frequency\n",
            "        conversion, moving window statistics, date shifting and lagging.\n",
            "\n",
            "PACKAGE CONTENTS\n",
            "    _config (package)\n",
            "    _libs (package)\n",
            "    _testing\n",
            "    _typing\n",
            "    _version\n",
            "    api (package)\n",
            "    arrays (package)\n",
            "    compat (package)\n",
            "    conftest\n",
            "    core (package)\n",
            "    errors (package)\n",
            "    io (package)\n",
            "    plotting (package)\n",
            "    testing\n",
            "    tests (package)\n",
            "    tseries (package)\n",
            "    util (package)\n",
            "\n",
            "SUBMODULES\n",
            "    _hashtable\n",
            "    _lib\n",
            "    _tslib\n",
            "    offsets\n",
            "\n",
            "CLASSES\n",
            "    builtins.object\n",
            "        Panel\n",
            "        SparseDataFrame\n",
            "        SparseSeries\n",
            "        __DatetimeSub\n",
            "        __SparseArraySub\n",
            "    \n",
            "    class Panel(builtins.object)\n",
            "     |  Data descriptors defined here:\n",
            "     |  \n",
            "     |  __dict__\n",
            "     |      dictionary for instance variables (if defined)\n",
            "     |  \n",
            "     |  __weakref__\n",
            "     |      list of weak references to the object (if defined)\n",
            "    \n",
            "    SparseArray = class __SparseArraySub(builtins.object)\n",
            "     |  Methods defined here:\n",
            "     |  \n",
            "     |  emit_warning(dummy=0)\n",
            "     |  \n",
            "     |  ----------------------------------------------------------------------\n",
            "     |  Static methods defined here:\n",
            "     |  \n",
            "     |  __new__(cls, *args, **kwargs)\n",
            "     |      Create and return a new object.  See help(type) for accurate signature.\n",
            "     |  \n",
            "     |  ----------------------------------------------------------------------\n",
            "     |  Data descriptors defined here:\n",
            "     |  \n",
            "     |  __dict__\n",
            "     |      dictionary for instance variables (if defined)\n",
            "     |  \n",
            "     |  __weakref__\n",
            "     |      list of weak references to the object (if defined)\n",
            "    \n",
            "    class SparseDataFrame(builtins.object)\n",
            "     |  Data descriptors defined here:\n",
            "     |  \n",
            "     |  __dict__\n",
            "     |      dictionary for instance variables (if defined)\n",
            "     |  \n",
            "     |  __weakref__\n",
            "     |      list of weak references to the object (if defined)\n",
            "    \n",
            "    class SparseSeries(builtins.object)\n",
            "     |  Data descriptors defined here:\n",
            "     |  \n",
            "     |  __dict__\n",
            "     |      dictionary for instance variables (if defined)\n",
            "     |  \n",
            "     |  __weakref__\n",
            "     |      list of weak references to the object (if defined)\n",
            "    \n",
            "    datetime = class __DatetimeSub(builtins.object)\n",
            "     |  Methods defined here:\n",
            "     |  \n",
            "     |  emit_warning(dummy=0)\n",
            "     |  \n",
            "     |  ----------------------------------------------------------------------\n",
            "     |  Static methods defined here:\n",
            "     |  \n",
            "     |  __new__(cls, *args, **kwargs)\n",
            "     |      Create and return a new object.  See help(type) for accurate signature.\n",
            "     |  \n",
            "     |  ----------------------------------------------------------------------\n",
            "     |  Data descriptors defined here:\n",
            "     |  \n",
            "     |  __dict__\n",
            "     |      dictionary for instance variables (if defined)\n",
            "     |  \n",
            "     |  __weakref__\n",
            "     |      list of weak references to the object (if defined)\n",
            "\n",
            "DATA\n",
            "    IndexSlice = <pandas.core.indexing._IndexSlice object>\n",
            "    NA = <NA>\n",
            "    NaT = NaT\n",
            "    __docformat__ = 'restructuredtext'\n",
            "    __git_version__ = 'b5958ee1999e9aead1938c0bba2b674378807b3d'\n",
            "    describe_option = <pandas._config.config.CallableDynamicDoc object>\n",
            "    get_option = <pandas._config.config.CallableDynamicDoc object>\n",
            "    np = <pandas.__numpy object>\n",
            "    options = <pandas._config.config.DictWrapper object>\n",
            "    reset_option = <pandas._config.config.CallableDynamicDoc object>\n",
            "    set_option = <pandas._config.config.CallableDynamicDoc object>\n",
            "\n",
            "VERSION\n",
            "    1.1.5\n",
            "\n",
            "FILE\n",
            "    /usr/local/lib/python3.6/dist-packages/pandas/__init__.py\n",
            "\n",
            "\n"
          ],
          "name": "stdout"
        }
      ]
    },
    {
      "cell_type": "code",
      "metadata": {
        "colab": {
          "base_uri": "https://localhost:8080/"
        },
        "id": "ME73hmfgnK7J",
        "outputId": "8804b99d-2b1f-4981-9c81-0fb889f47780"
      },
      "source": [
        "type(k)"
      ],
      "execution_count": 3,
      "outputs": [
        {
          "output_type": "execute_result",
          "data": {
            "text/plain": [
              "list"
            ]
          },
          "metadata": {
            "tags": []
          },
          "execution_count": 3
        }
      ]
    },
    {
      "cell_type": "code",
      "metadata": {
        "id": "zRg8shgfnMnS"
      },
      "source": [
        "k[2]=\"onion\""
      ],
      "execution_count": 4,
      "outputs": []
    },
    {
      "cell_type": "code",
      "metadata": {
        "colab": {
          "base_uri": "https://localhost:8080/"
        },
        "id": "xZ7UdZqinXqd",
        "outputId": "95c27e52-c161-439c-e804-eb0978fb736b"
      },
      "source": [
        "k"
      ],
      "execution_count": 5,
      "outputs": [
        {
          "output_type": "execute_result",
          "data": {
            "text/plain": [
              "['apple', 'banana', 'onion', 'grapes']"
            ]
          },
          "metadata": {
            "tags": []
          },
          "execution_count": 5
        }
      ]
    },
    {
      "cell_type": "code",
      "metadata": {
        "colab": {
          "base_uri": "https://localhost:8080/",
          "height": 180
        },
        "id": "qoX-S9T1nc0F",
        "outputId": "b5dd483e-8ca3-49ad-e908-6d81888025c2"
      },
      "source": [
        ""
      ],
      "execution_count": 7,
      "outputs": [
        {
          "output_type": "error",
          "ename": "NameError",
          "evalue": "ignored",
          "traceback": [
            "\u001b[0;31m---------------------------------------------------------------------------\u001b[0m",
            "\u001b[0;31mNameError\u001b[0m                                 Traceback (most recent call last)",
            "\u001b[0;32m<ipython-input-7-1e3284539912>\u001b[0m in \u001b[0;36m<module>\u001b[0;34m()\u001b[0m\n\u001b[0;32m----> 1\u001b[0;31m \u001b[0;32mfor\u001b[0m \u001b[0mi\u001b[0m \u001b[0;32min\u001b[0m \u001b[0mapple\u001b[0m\u001b[0;34m:\u001b[0m\u001b[0;34m\u001b[0m\u001b[0;34m\u001b[0m\u001b[0m\n\u001b[0m\u001b[1;32m      2\u001b[0m   \u001b[0mprint\u001b[0m\u001b[0;34m(\u001b[0m\u001b[0mi\u001b[0m\u001b[0;34m)\u001b[0m\u001b[0;34m\u001b[0m\u001b[0;34m\u001b[0m\u001b[0m\n",
            "\u001b[0;31mNameError\u001b[0m: name 'apple' is not defined"
          ]
        }
      ]
    },
    {
      "cell_type": "code",
      "metadata": {
        "colab": {
          "base_uri": "https://localhost:8080/"
        },
        "id": "bhtql-iInl3d",
        "outputId": "ca7ab9c5-ca73-48dc-fb86-d2400096d75b"
      },
      "source": [
        "import pandas as pd\r\n",
        "data = pd.Series([23,54,66,76,33],index=['A','B','C','D','E'])\r\n",
        "data"
      ],
      "execution_count": 18,
      "outputs": [
        {
          "output_type": "execute_result",
          "data": {
            "text/plain": [
              "A    23\n",
              "B    54\n",
              "C    66\n",
              "D    76\n",
              "E    33\n",
              "dtype: int64"
            ]
          },
          "metadata": {
            "tags": []
          },
          "execution_count": 18
        }
      ]
    },
    {
      "cell_type": "code",
      "metadata": {
        "colab": {
          "base_uri": "https://localhost:8080/"
        },
        "id": "Mv3_okyGro0j",
        "outputId": "ce11c3c9-7f04-4fff-9b71-f8d85692e1ee"
      },
      "source": [
        "data['A']"
      ],
      "execution_count": 19,
      "outputs": [
        {
          "output_type": "execute_result",
          "data": {
            "text/plain": [
              "23"
            ]
          },
          "metadata": {
            "tags": []
          },
          "execution_count": 19
        }
      ]
    },
    {
      "cell_type": "code",
      "metadata": {
        "colab": {
          "base_uri": "https://localhost:8080/"
        },
        "id": "Hqy3BLScr8Ky",
        "outputId": "efa2ab50-ef4c-49e2-fce9-1ef15d2f59e8"
      },
      "source": [
        "'A' in data"
      ],
      "execution_count": 21,
      "outputs": [
        {
          "output_type": "execute_result",
          "data": {
            "text/plain": [
              "True"
            ]
          },
          "metadata": {
            "tags": []
          },
          "execution_count": 21
        }
      ]
    },
    {
      "cell_type": "code",
      "metadata": {
        "id": "Ijn1P2JLr-4C"
      },
      "source": [
        "pd.Series.keys?"
      ],
      "execution_count": 22,
      "outputs": []
    },
    {
      "cell_type": "code",
      "metadata": {
        "colab": {
          "base_uri": "https://localhost:8080/"
        },
        "id": "5llDj2q2sKTR",
        "outputId": "8797a4e1-a4a1-4633-ea35-14249f27e8c0"
      },
      "source": [
        "data.keys()"
      ],
      "execution_count": 23,
      "outputs": [
        {
          "output_type": "execute_result",
          "data": {
            "text/plain": [
              "Index(['A', 'B', 'C', 'D', 'E'], dtype='object')"
            ]
          },
          "metadata": {
            "tags": []
          },
          "execution_count": 23
        }
      ]
    },
    {
      "cell_type": "code",
      "metadata": {
        "id": "AuxsNyg0sTjG"
      },
      "source": [
        "pd.Series.items?"
      ],
      "execution_count": 24,
      "outputs": []
    },
    {
      "cell_type": "code",
      "metadata": {
        "colab": {
          "base_uri": "https://localhost:8080/"
        },
        "id": "EENOazZsseDa",
        "outputId": "794554a8-c0f9-4880-bb51-36337a1235e9"
      },
      "source": [
        "data['A']=400\r\n",
        "data"
      ],
      "execution_count": 25,
      "outputs": [
        {
          "output_type": "execute_result",
          "data": {
            "text/plain": [
              "A    400\n",
              "B     54\n",
              "C     66\n",
              "D     76\n",
              "E     33\n",
              "dtype: int64"
            ]
          },
          "metadata": {
            "tags": []
          },
          "execution_count": 25
        }
      ]
    },
    {
      "cell_type": "code",
      "metadata": {
        "id": "gJzW2UH6suXE"
      },
      "source": [
        ""
      ],
      "execution_count": null,
      "outputs": []
    },
    {
      "cell_type": "markdown",
      "metadata": {
        "id": "P7H3EGcns6ae"
      },
      "source": [
        "#slicing by explicit index"
      ]
    },
    {
      "cell_type": "markdown",
      "metadata": {
        "id": "hO2EJ-XOs5MZ"
      },
      "source": [
        ""
      ]
    },
    {
      "cell_type": "markdown",
      "metadata": {
        "id": "-Tboyye9tkKx"
      },
      "source": [
        ""
      ]
    },
    {
      "cell_type": "code",
      "metadata": {
        "colab": {
          "base_uri": "https://localhost:8080/"
        },
        "id": "7m6M-mmKtBz1",
        "outputId": "53a5859d-6ebb-475e-918b-31a2bcfea6ef"
      },
      "source": [
        "print(data)\r\n",
        "print(data['A':'C'])"
      ],
      "execution_count": 27,
      "outputs": [
        {
          "output_type": "stream",
          "text": [
            "A    400\n",
            "B     54\n",
            "C     66\n",
            "D     76\n",
            "E     33\n",
            "dtype: int64\n",
            "A    400\n",
            "B     54\n",
            "C     66\n",
            "dtype: int64\n"
          ],
          "name": "stdout"
        }
      ]
    },
    {
      "cell_type": "code",
      "metadata": {
        "id": "98MPkcSbtQoE"
      },
      "source": [
        ""
      ],
      "execution_count": null,
      "outputs": []
    },
    {
      "cell_type": "markdown",
      "metadata": {
        "id": "UWlFghBZtmIW"
      },
      "source": [
        "slicing by implicit integer"
      ]
    },
    {
      "cell_type": "code",
      "metadata": {
        "colab": {
          "base_uri": "https://localhost:8080/"
        },
        "id": "qhxRoPaStpoD",
        "outputId": "86edcb1a-63a4-42bf-8622-51b001892363"
      },
      "source": [
        "print(data)\r\n",
        "print(data[0:4])"
      ],
      "execution_count": 28,
      "outputs": [
        {
          "output_type": "stream",
          "text": [
            "A    400\n",
            "B     54\n",
            "C     66\n",
            "D     76\n",
            "E     33\n",
            "dtype: int64\n",
            "A    400\n",
            "B     54\n",
            "C     66\n",
            "D     76\n",
            "dtype: int64\n"
          ],
          "name": "stdout"
        }
      ]
    },
    {
      "cell_type": "code",
      "metadata": {
        "colab": {
          "base_uri": "https://localhost:8080/"
        },
        "id": "kErXFqNbtzZE",
        "outputId": "09c00910-3f82-4751-ce5a-47da1b3f8181"
      },
      "source": [
        "#masking\r\n",
        "data[(data>50)&(data<400)]"
      ],
      "execution_count": 29,
      "outputs": [
        {
          "output_type": "execute_result",
          "data": {
            "text/plain": [
              "B    54\n",
              "C    66\n",
              "D    76\n",
              "dtype: int64"
            ]
          },
          "metadata": {
            "tags": []
          },
          "execution_count": 29
        }
      ]
    },
    {
      "cell_type": "code",
      "metadata": {
        "colab": {
          "base_uri": "https://localhost:8080/"
        },
        "id": "1KZAF8SnuTjL",
        "outputId": "2fb57a5a-8da0-453c-8859-7c1fd2e4fb44"
      },
      "source": [
        "#fancy indexing\r\n",
        "data[['A','B']]"
      ],
      "execution_count": 33,
      "outputs": [
        {
          "output_type": "execute_result",
          "data": {
            "text/plain": [
              "A    400\n",
              "B     54\n",
              "dtype: int64"
            ]
          },
          "metadata": {
            "tags": []
          },
          "execution_count": 33
        }
      ]
    },
    {
      "cell_type": "code",
      "metadata": {
        "colab": {
          "base_uri": "https://localhost:8080/"
        },
        "id": "IMEO56kJue9T",
        "outputId": "2bf5728c-1b1b-4992-98d5-2afc9b497516"
      },
      "source": [
        "#lets print the data and use the expicit and implicit index to access the data\r\n",
        "data"
      ],
      "execution_count": 34,
      "outputs": [
        {
          "output_type": "execute_result",
          "data": {
            "text/plain": [
              "A    400\n",
              "B     54\n",
              "C     66\n",
              "D     76\n",
              "E     33\n",
              "dtype: int64"
            ]
          },
          "metadata": {
            "tags": []
          },
          "execution_count": 34
        }
      ]
    },
    {
      "cell_type": "code",
      "metadata": {
        "colab": {
          "base_uri": "https://localhost:8080/"
        },
        "id": "L6CMDzWzu72o",
        "outputId": "d145571d-9175-401f-c04d-2f9aa9035860"
      },
      "source": [
        "#python index start from zero by default\r\n",
        "#implicit index:final index is excluded\r\n",
        "data[1:3]"
      ],
      "execution_count": 35,
      "outputs": [
        {
          "output_type": "execute_result",
          "data": {
            "text/plain": [
              "B    54\n",
              "C    66\n",
              "dtype: int64"
            ]
          },
          "metadata": {
            "tags": []
          },
          "execution_count": 35
        }
      ]
    },
    {
      "cell_type": "code",
      "metadata": {
        "colab": {
          "base_uri": "https://localhost:8080/"
        },
        "id": "bmznqhBcvZ-A",
        "outputId": "890fe90b-7a35-472c-9cf0-717c828fba88"
      },
      "source": [
        "#explicit index:final index is included\r\n",
        "data['B':'E']"
      ],
      "execution_count": 36,
      "outputs": [
        {
          "output_type": "execute_result",
          "data": {
            "text/plain": [
              "B    54\n",
              "C    66\n",
              "D    76\n",
              "E    33\n",
              "dtype: int64"
            ]
          },
          "metadata": {
            "tags": []
          },
          "execution_count": 36
        }
      ]
    },
    {
      "cell_type": "code",
      "metadata": {
        "id": "grRYFzyfvw8O"
      },
      "source": [
        "#lets create a data to create explicit intex to understand this concept\r\n",
        "idata=pd.Series(['a','b','c','d','e','f'],index=[1,2,3,4,5,7])"
      ],
      "execution_count": 37,
      "outputs": []
    },
    {
      "cell_type": "code",
      "metadata": {
        "colab": {
          "base_uri": "https://localhost:8080/"
        },
        "id": "Y7XUKPf1-XQO",
        "outputId": "a7ad328e-0e3d-4b95-b22f-250f90d92fce"
      },
      "source": [
        "idata"
      ],
      "execution_count": 38,
      "outputs": [
        {
          "output_type": "execute_result",
          "data": {
            "text/plain": [
              "1    a\n",
              "2    b\n",
              "3    c\n",
              "4    d\n",
              "5    e\n",
              "7    f\n",
              "dtype: object"
            ]
          },
          "metadata": {
            "tags": []
          },
          "execution_count": 38
        }
      ]
    },
    {
      "cell_type": "code",
      "metadata": {
        "colab": {
          "base_uri": "https://localhost:8080/",
          "height": 35
        },
        "id": "wp5PuXSx-Ytx",
        "outputId": "9b659d08-7835-4bb0-817d-fd49fa7c6ec3"
      },
      "source": [
        "#explicit index while indexing\r\n",
        "idata[4]"
      ],
      "execution_count": 41,
      "outputs": [
        {
          "output_type": "execute_result",
          "data": {
            "application/vnd.google.colaboratory.intrinsic+json": {
              "type": "string"
            },
            "text/plain": [
              "'d'"
            ]
          },
          "metadata": {
            "tags": []
          },
          "execution_count": 41
        }
      ]
    },
    {
      "cell_type": "code",
      "metadata": {
        "id": "DcCEL0wd-fL-"
      },
      "source": [
        "idata[4]=500"
      ],
      "execution_count": 42,
      "outputs": []
    },
    {
      "cell_type": "code",
      "metadata": {
        "colab": {
          "base_uri": "https://localhost:8080/"
        },
        "id": "ClTD8QaF-m48",
        "outputId": "fdca5def-7c45-4529-f911-5f9d5c3bfb7f"
      },
      "source": [
        "idata"
      ],
      "execution_count": 43,
      "outputs": [
        {
          "output_type": "execute_result",
          "data": {
            "text/plain": [
              "1      a\n",
              "2      b\n",
              "3      c\n",
              "4    500\n",
              "5      e\n",
              "7      f\n",
              "dtype: object"
            ]
          },
          "metadata": {
            "tags": []
          },
          "execution_count": 43
        }
      ]
    },
    {
      "cell_type": "code",
      "metadata": {
        "colab": {
          "base_uri": "https://localhost:8080/"
        },
        "id": "nxRswKMu-oIc",
        "outputId": "802692da-f095-4e19-b3fc-80716df19b02"
      },
      "source": [
        "#implicit index while indexing\r\n",
        "idata[1:4]"
      ],
      "execution_count": 44,
      "outputs": [
        {
          "output_type": "execute_result",
          "data": {
            "text/plain": [
              "2      b\n",
              "3      c\n",
              "4    500\n",
              "dtype: object"
            ]
          },
          "metadata": {
            "tags": []
          },
          "execution_count": 44
        }
      ]
    },
    {
      "cell_type": "code",
      "metadata": {
        "colab": {
          "base_uri": "https://localhost:8080/",
          "height": 35
        },
        "id": "_CEq3ort-6c8",
        "outputId": "310c9ecc-d298-426d-9a33-28d2f118d4ff"
      },
      "source": [
        "idata.loc[1]"
      ],
      "execution_count": 45,
      "outputs": [
        {
          "output_type": "execute_result",
          "data": {
            "application/vnd.google.colaboratory.intrinsic+json": {
              "type": "string"
            },
            "text/plain": [
              "'a'"
            ]
          },
          "metadata": {
            "tags": []
          },
          "execution_count": 45
        }
      ]
    },
    {
      "cell_type": "code",
      "metadata": {
        "colab": {
          "base_uri": "https://localhost:8080/"
        },
        "id": "oPr_d6qz_KvN",
        "outputId": "6a1e0188-50f1-4aca-db9c-0329eddfb33f"
      },
      "source": [
        "idata.loc[1:5]"
      ],
      "execution_count": 46,
      "outputs": [
        {
          "output_type": "execute_result",
          "data": {
            "text/plain": [
              "1      a\n",
              "2      b\n",
              "3      c\n",
              "4    500\n",
              "5      e\n",
              "dtype: object"
            ]
          },
          "metadata": {
            "tags": []
          },
          "execution_count": 46
        }
      ]
    },
    {
      "cell_type": "code",
      "metadata": {
        "colab": {
          "base_uri": "https://localhost:8080/"
        },
        "id": "qh9Ujf7Z_Ryj",
        "outputId": "0cc3c600-54f2-425a-83b7-18ceec1ddd32"
      },
      "source": [
        "print(idata)\r\n",
        "print(idata[3:7])\r\n",
        "print(idata.loc[3:7])"
      ],
      "execution_count": 48,
      "outputs": [
        {
          "output_type": "stream",
          "text": [
            "1      a\n",
            "2      b\n",
            "3      c\n",
            "4    500\n",
            "5      e\n",
            "7      f\n",
            "dtype: object\n",
            "4    500\n",
            "5      e\n",
            "7      f\n",
            "dtype: object\n",
            "3      c\n",
            "4    500\n",
            "5      e\n",
            "7      f\n",
            "dtype: object\n"
          ],
          "name": "stdout"
        }
      ]
    },
    {
      "cell_type": "code",
      "metadata": {
        "id": "XwXD0OOM_gxp"
      },
      "source": [
        ""
      ],
      "execution_count": null,
      "outputs": []
    },
    {
      "cell_type": "code",
      "metadata": {
        "id": "d-dAqA6WAVsc"
      },
      "source": [
        ""
      ],
      "execution_count": null,
      "outputs": []
    },
    {
      "cell_type": "markdown",
      "metadata": {
        "id": "muhQS7c-AioI"
      },
      "source": [
        "**#Data selection in data frames**\r\n"
      ]
    },
    {
      "cell_type": "code",
      "metadata": {
        "id": "e30wDUS9CBqY"
      },
      "source": [
        "import pandas as pd"
      ],
      "execution_count": 49,
      "outputs": []
    },
    {
      "cell_type": "code",
      "metadata": {
        "id": "L84smCMtCPUV"
      },
      "source": [
        "states_capital={'Andhrapradesh':'Amaravathi','karnataka':'bangalore','tamilnadu':'chennai','telangana':'huderabad','kerala':'tiruvanantapuram'}\r\n",
        "data_capital=pd.Series(states_capital)"
      ],
      "execution_count": 50,
      "outputs": []
    },
    {
      "cell_type": "code",
      "metadata": {
        "id": "rwd-WBKHC9V1"
      },
      "source": [
        "states_lang={'Andhrapradesh':'telugu','tamilnadu':'tamil','karnataka':'kanada','telangana':'telugu'}\r\n",
        "data_lang=pd.Series(states_lang)"
      ],
      "execution_count": 51,
      "outputs": []
    },
    {
      "cell_type": "code",
      "metadata": {
        "colab": {
          "base_uri": "https://localhost:8080/",
          "height": 204
        },
        "id": "ca32fekgDYld",
        "outputId": "00d08c86-ba96-4b9d-ccbb-53e03761d900"
      },
      "source": [
        "data2=pd.DataFrame({'capitals': states_capital,'language': states_lang})\r\n",
        "data2"
      ],
      "execution_count": 52,
      "outputs": [
        {
          "output_type": "execute_result",
          "data": {
            "text/html": [
              "<div>\n",
              "<style scoped>\n",
              "    .dataframe tbody tr th:only-of-type {\n",
              "        vertical-align: middle;\n",
              "    }\n",
              "\n",
              "    .dataframe tbody tr th {\n",
              "        vertical-align: top;\n",
              "    }\n",
              "\n",
              "    .dataframe thead th {\n",
              "        text-align: right;\n",
              "    }\n",
              "</style>\n",
              "<table border=\"1\" class=\"dataframe\">\n",
              "  <thead>\n",
              "    <tr style=\"text-align: right;\">\n",
              "      <th></th>\n",
              "      <th>capitals</th>\n",
              "      <th>language</th>\n",
              "    </tr>\n",
              "  </thead>\n",
              "  <tbody>\n",
              "    <tr>\n",
              "      <th>Andhrapradesh</th>\n",
              "      <td>Amaravathi</td>\n",
              "      <td>telugu</td>\n",
              "    </tr>\n",
              "    <tr>\n",
              "      <th>karnataka</th>\n",
              "      <td>bangalore</td>\n",
              "      <td>kanada</td>\n",
              "    </tr>\n",
              "    <tr>\n",
              "      <th>tamilnadu</th>\n",
              "      <td>chennai</td>\n",
              "      <td>tamil</td>\n",
              "    </tr>\n",
              "    <tr>\n",
              "      <th>telangana</th>\n",
              "      <td>huderabad</td>\n",
              "      <td>telugu</td>\n",
              "    </tr>\n",
              "    <tr>\n",
              "      <th>kerala</th>\n",
              "      <td>tiruvanantapuram</td>\n",
              "      <td>NaN</td>\n",
              "    </tr>\n",
              "  </tbody>\n",
              "</table>\n",
              "</div>"
            ],
            "text/plain": [
              "                       capitals language\n",
              "Andhrapradesh        Amaravathi   telugu\n",
              "karnataka             bangalore   kanada\n",
              "tamilnadu               chennai    tamil\n",
              "telangana             huderabad   telugu\n",
              "kerala         tiruvanantapuram      NaN"
            ]
          },
          "metadata": {
            "tags": []
          },
          "execution_count": 52
        }
      ]
    },
    {
      "cell_type": "code",
      "metadata": {
        "colab": {
          "base_uri": "https://localhost:8080/"
        },
        "id": "gDMF2CNqED3B",
        "outputId": "2e9e53ed-c45f-4927-eafe-852c11e7ed33"
      },
      "source": [
        "data2['capitals']"
      ],
      "execution_count": 56,
      "outputs": [
        {
          "output_type": "execute_result",
          "data": {
            "text/plain": [
              "Andhrapradesh          Amaravathi\n",
              "karnataka               bangalore\n",
              "tamilnadu                 chennai\n",
              "telangana               huderabad\n",
              "kerala           tiruvanantapuram\n",
              "Name: capitals, dtype: object"
            ]
          },
          "metadata": {
            "tags": []
          },
          "execution_count": 56
        }
      ]
    },
    {
      "cell_type": "code",
      "metadata": {
        "colab": {
          "base_uri": "https://localhost:8080/"
        },
        "id": "-u1TGP6VEgWH",
        "outputId": "a6ce6624-34f8-4a3d-cef7-511236d1323d"
      },
      "source": [
        "data2['language']"
      ],
      "execution_count": 57,
      "outputs": [
        {
          "output_type": "execute_result",
          "data": {
            "text/plain": [
              "Andhrapradesh    telugu\n",
              "karnataka        kanada\n",
              "tamilnadu         tamil\n",
              "telangana        telugu\n",
              "kerala              NaN\n",
              "Name: language, dtype: object"
            ]
          },
          "metadata": {
            "tags": []
          },
          "execution_count": 57
        }
      ]
    },
    {
      "cell_type": "code",
      "metadata": {
        "colab": {
          "base_uri": "https://localhost:8080/"
        },
        "id": "Z72u8vQKEum2",
        "outputId": "1ae87441-03de-49b3-ab0e-3f15e419b3a7"
      },
      "source": [
        "data2.capitals"
      ],
      "execution_count": 58,
      "outputs": [
        {
          "output_type": "execute_result",
          "data": {
            "text/plain": [
              "Andhrapradesh          Amaravathi\n",
              "karnataka               bangalore\n",
              "tamilnadu                 chennai\n",
              "telangana               huderabad\n",
              "kerala           tiruvanantapuram\n",
              "Name: capitals, dtype: object"
            ]
          },
          "metadata": {
            "tags": []
          },
          "execution_count": 58
        }
      ]
    },
    {
      "cell_type": "code",
      "metadata": {
        "id": "X_jHbWSTE39H"
      },
      "source": [
        "student_subjects=pd.Series({'kiran':'telugu','bhanu':'english','dilip':'malayalam','ramadevi':'sanskrit','rakesh':'hindi','rajtharun':'tamil'})\r\n",
        "total_marks=pd.Series({'kiran':100,'bhanu':100,'dilip':100,'ramadevi':100,'rakesh':100,'rajtharun':100})\r\n",
        "obtained_marks=pd.Series({'kiran':78,'bhanu':99,'dilip':78,'ramadevi':100,'rakesh':89,'rajtharun':66})\r\n",
        "data3=pd.DataFrame({'sub': student_subjects,'totalmarks':total_marks,'obtainedmarks':obtained_marks})"
      ],
      "execution_count": 59,
      "outputs": []
    },
    {
      "cell_type": "code",
      "metadata": {
        "colab": {
          "base_uri": "https://localhost:8080/",
          "height": 235
        },
        "id": "iRWidFsWHJfr",
        "outputId": "57d819a0-3361-4b36-af5a-46880f6b12eb"
      },
      "source": [
        "data3"
      ],
      "execution_count": 60,
      "outputs": [
        {
          "output_type": "execute_result",
          "data": {
            "text/html": [
              "<div>\n",
              "<style scoped>\n",
              "    .dataframe tbody tr th:only-of-type {\n",
              "        vertical-align: middle;\n",
              "    }\n",
              "\n",
              "    .dataframe tbody tr th {\n",
              "        vertical-align: top;\n",
              "    }\n",
              "\n",
              "    .dataframe thead th {\n",
              "        text-align: right;\n",
              "    }\n",
              "</style>\n",
              "<table border=\"1\" class=\"dataframe\">\n",
              "  <thead>\n",
              "    <tr style=\"text-align: right;\">\n",
              "      <th></th>\n",
              "      <th>sub</th>\n",
              "      <th>totalmarks</th>\n",
              "      <th>obtainedmarks</th>\n",
              "    </tr>\n",
              "  </thead>\n",
              "  <tbody>\n",
              "    <tr>\n",
              "      <th>kiran</th>\n",
              "      <td>telugu</td>\n",
              "      <td>100</td>\n",
              "      <td>78</td>\n",
              "    </tr>\n",
              "    <tr>\n",
              "      <th>bhanu</th>\n",
              "      <td>english</td>\n",
              "      <td>100</td>\n",
              "      <td>99</td>\n",
              "    </tr>\n",
              "    <tr>\n",
              "      <th>dilip</th>\n",
              "      <td>malayalam</td>\n",
              "      <td>100</td>\n",
              "      <td>78</td>\n",
              "    </tr>\n",
              "    <tr>\n",
              "      <th>ramadevi</th>\n",
              "      <td>sanskrit</td>\n",
              "      <td>100</td>\n",
              "      <td>100</td>\n",
              "    </tr>\n",
              "    <tr>\n",
              "      <th>rakesh</th>\n",
              "      <td>hindi</td>\n",
              "      <td>100</td>\n",
              "      <td>89</td>\n",
              "    </tr>\n",
              "    <tr>\n",
              "      <th>rajtharun</th>\n",
              "      <td>tamil</td>\n",
              "      <td>100</td>\n",
              "      <td>66</td>\n",
              "    </tr>\n",
              "  </tbody>\n",
              "</table>\n",
              "</div>"
            ],
            "text/plain": [
              "                 sub  totalmarks  obtainedmarks\n",
              "kiran         telugu         100             78\n",
              "bhanu        english         100             99\n",
              "dilip      malayalam         100             78\n",
              "ramadevi    sanskrit         100            100\n",
              "rakesh         hindi         100             89\n",
              "rajtharun      tamil         100             66"
            ]
          },
          "metadata": {
            "tags": []
          },
          "execution_count": 60
        }
      ]
    },
    {
      "cell_type": "code",
      "metadata": {
        "colab": {
          "base_uri": "https://localhost:8080/"
        },
        "id": "hIelDszLHLOL",
        "outputId": "0f4391e1-b874-438f-892a-909750550045"
      },
      "source": [
        "data3['sub']"
      ],
      "execution_count": 61,
      "outputs": [
        {
          "output_type": "execute_result",
          "data": {
            "text/plain": [
              "kiran           telugu\n",
              "bhanu          english\n",
              "dilip        malayalam\n",
              "ramadevi      sanskrit\n",
              "rakesh           hindi\n",
              "rajtharun        tamil\n",
              "Name: sub, dtype: object"
            ]
          },
          "metadata": {
            "tags": []
          },
          "execution_count": 61
        }
      ]
    },
    {
      "cell_type": "code",
      "metadata": {
        "colab": {
          "base_uri": "https://localhost:8080/"
        },
        "id": "-FKpPQS5HPqF",
        "outputId": "7bdbe7bc-07fe-47d8-ede1-590015707988"
      },
      "source": [
        "data3['totalmarks']"
      ],
      "execution_count": 65,
      "outputs": [
        {
          "output_type": "execute_result",
          "data": {
            "text/plain": [
              "kiran        100\n",
              "bhanu        100\n",
              "dilip        100\n",
              "ramadevi     100\n",
              "rakesh       100\n",
              "rajtharun    100\n",
              "Name: totalmarks, dtype: int64"
            ]
          },
          "metadata": {
            "tags": []
          },
          "execution_count": 65
        }
      ]
    },
    {
      "cell_type": "code",
      "metadata": {
        "id": "l3c_9xG-HXUY"
      },
      "source": [
        ""
      ],
      "execution_count": null,
      "outputs": []
    }
  ]
}